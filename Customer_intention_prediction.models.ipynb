{
 "cells": [
  {
   "cell_type": "markdown",
   "metadata": {},
   "source": [
    "# Report\n",
    "\n",
    "The goal is to identify which features are important and influence the buying intent of customers. There are 3 sets of feature and 2 models are trained on each set. The tree based model(Gradient boosted trees) will be used to determine feature importance. The model with the highest Balanced accuracy score will be selected. The neural netwrok based mode serves as reference for how good the tree based model is. Ideally the performance between the two models should be equal. \n",
    "\n",
    "\n",
    "## Model selection\n",
    "\n",
    "The hyper parameter for each model is optimized using bayesian optimization and 5 fold  stratified Cross Validation. Each model is trained on there different transformations of the original dataset. Since the data set is imbalanced be use balanced accuracy as the metric."
   ]
  },
  {
   "cell_type": "markdown",
   "metadata": {},
   "source": [
    "### Optimization and selection for gradient boosted trees"
   ]
  },
  {
   "cell_type": "code",
   "execution_count": 1,
   "metadata": {},
   "outputs": [],
   "source": [
    "# imports\n",
    "import lightgbm as lgb #light gradient boosted tree\n",
    "from sklearn.model_selection import train_test_split, StratifiedKFold # train and test split\n",
    "from sklearn.metrics import balanced_accuracy_score,precision_score# metrics\n",
    "from hyperopt import fmin, tpe, hp, Trials, STATUS_OK# optimization\n",
    "import numpy as np\n",
    "import pandas as pd # reading data\n",
    "import warnings\n",
    "warnings.simplefilter(\"ignore\")"
   ]
  },
  {
   "cell_type": "code",
   "execution_count": 2,
   "metadata": {},
   "outputs": [],
   "source": [
    "# read data\n",
    "df_encoded = pd.read_csv('C:\\ProgramData\\jupyter\\MLonline_shoppers_intention_encoded.csv', index_col=False)\n",
    "df_scaled = pd.read_csv('C:\\ProgramData\\jupyter\\MLonline_shoppers_intention_encoded_scaled.csv', index_col=False)\n",
    "df_transformed = pd.read_csv('C:\\ProgramData\\jupyter\\MLonline_shoppers_intention_encoded_scaled_transformed.csv', index_col=False)"
   ]
  },
  {
   "cell_type": "code",
   "execution_count": 3,
   "metadata": {},
   "outputs": [],
   "source": [
    "#seperate label\n",
    "label = df_encoded.pop('Revenue').astype('int')\n",
    "_,_ = df_scaled.pop('Revenue'),df_transformed.pop('Revenue')"
   ]
  },
  {
   "cell_type": "code",
   "execution_count": 4,
   "metadata": {},
   "outputs": [],
   "source": [
    "#split object for CV \n",
    "skf = StratifiedKFold(n_splits=5, random_state=None, shuffle=True)\n",
    "#Hyperparameter search space for gradient boosed trees\n",
    "lgb_space = {'lr':hp.loguniform('lr',-6.9,-2.3),'num_leaves':hp.quniform('num_leaves',15,255,1),\n",
    "         'max_depth':hp.choice('max_depth',[-1,9,12]),'colsample_bytree': hp.uniform('colsample_bytree', 0.3, 1.0)}"
   ]
  },
  {
   "cell_type": "code",
   "execution_count": 5,
   "metadata": {},
   "outputs": [],
   "source": [
    "def lgb_optimizer(params):\n",
    "    '''A function to optimize  lgb classifier\n",
    "    :params:=params , dictionary containing the Hyper-parameters for the classifier\n",
    "    returns true loss and validation loss\n",
    "    '''\n",
    "    if 'num_leaves' in params:\n",
    "        params['num_leaves']=int(params['num_leaves'])\n",
    "    if 'max_depth' in params:\n",
    "        params['max_depth']=int(params['max_depth'])\n",
    "    val_score=[]\n",
    "    true_scores=[]\n",
    "    rd=1\n",
    "    for train_index, test_index in skf.split(X_train, y_train):\n",
    "        X_tr, X_val = X_train.iloc[train_index], X_train.iloc[test_index]\n",
    "        y_tr, y_val = y_train.iloc[train_index], y_train.iloc[test_index]\n",
    "        clf = lgb.LGBMClassifier(n_estimators=2000,**params)\n",
    "        clf.fit(X_tr,y_tr,eval_set=(X_val,y_val),early_stopping_rounds =200,eval_metric='logloss',verbose=False)\n",
    "        y_pred = clf.predict(X_val)\n",
    "        y_tr_pred=clf.predict(X_tr)\n",
    "        score=balanced_accuracy_score(y_val,y_pred,)\n",
    "        true_score=balanced_accuracy_score(y_tr,y_tr_pred)\n",
    "        val_score.append(score)\n",
    "        true_scores.append(true_score)\n",
    "        rd+=1\n",
    "    mean,std =np.mean(val_score),np.std(val_score)\n",
    "    true_mean=np.mean(true_scores)\n",
    "    print(\"mean: {}, Std: {}\".format(mean,std))\n",
    "    return {'loss':-mean,'status': STATUS_OK,'true_loss':-true_mean}"
   ]
  },
  {
   "cell_type": "code",
   "execution_count": 40,
   "metadata": {
    "scrolled": true
   },
   "outputs": [
    {
     "name": "stdout",
     "output_type": "stream",
     "text": [
      "[LightGBM] [Warning] Unknown parameter: lr            \n",
      "[LightGBM] [Warning] Unknown parameter: lr            \n",
      "[LightGBM] [Warning] Unknown parameter: lr            \n",
      "[LightGBM] [Warning] Unknown parameter: lr            \n",
      "[LightGBM] [Warning] Unknown parameter: lr            \n",
      "mean: 0.7764680735662856, Std: 0.0236396526953442     \n",
      "[LightGBM] [Warning] Unknown parameter: lr                                       \n",
      "[LightGBM] [Warning] Unknown parameter: lr                                       \n",
      "[LightGBM] [Warning] Unknown parameter: lr                                       \n",
      "[LightGBM] [Warning] Unknown parameter: lr                                       \n",
      "[LightGBM] [Warning] Unknown parameter: lr                                       \n",
      "mean: 0.7626044987905238, Std: 0.01555192697691381                               \n",
      "[LightGBM] [Warning] Unknown parameter: lr                                       \n",
      "[LightGBM] [Warning] Unknown parameter: lr                                       \n",
      "[LightGBM] [Warning] Unknown parameter: lr                                       \n",
      "[LightGBM] [Warning] Unknown parameter: lr                                       \n",
      "[LightGBM] [Warning] Unknown parameter: lr                                       \n",
      "mean: 0.7596468385049723, Std: 0.01747230852088997                               \n",
      "[LightGBM] [Warning] Unknown parameter: lr                                       \n",
      "[LightGBM] [Warning] Unknown parameter: lr                                       \n",
      "[LightGBM] [Warning] Unknown parameter: lr                                       \n",
      "[LightGBM] [Warning] Unknown parameter: lr                                       \n",
      "[LightGBM] [Warning] Unknown parameter: lr                                       \n",
      "mean: 0.7629774399913479, Std: 0.010916656421292642                              \n",
      "[LightGBM] [Warning] Unknown parameter: lr                                       \n",
      "[LightGBM] [Warning] Unknown parameter: lr                                       \n",
      "[LightGBM] [Warning] Unknown parameter: lr                                       \n",
      "[LightGBM] [Warning] Unknown parameter: lr                                       \n",
      "[LightGBM] [Warning] Unknown parameter: lr                                       \n",
      "mean: 0.7669291758817481, Std: 0.018912534126588023                              \n",
      "[LightGBM] [Warning] Unknown parameter: lr                                       \n",
      "[LightGBM] [Warning] Unknown parameter: lr                                       \n",
      "[LightGBM] [Warning] Unknown parameter: lr                                       \n",
      "[LightGBM] [Warning] Unknown parameter: lr                                       \n",
      "[LightGBM] [Warning] Unknown parameter: lr                                       \n",
      "mean: 0.76576037703972, Std: 0.016538182083098422                                \n",
      "[LightGBM] [Warning] Unknown parameter: lr                                       \n",
      "[LightGBM] [Warning] Unknown parameter: lr                                       \n",
      "[LightGBM] [Warning] Unknown parameter: lr                                       \n",
      "[LightGBM] [Warning] Unknown parameter: lr                                       \n",
      "[LightGBM] [Warning] Unknown parameter: lr                                       \n",
      "mean: 0.7682620739288305, Std: 0.015283239214881894                              \n",
      "[LightGBM] [Warning] Unknown parameter: lr                                       \n",
      "[LightGBM] [Warning] Unknown parameter: lr                                       \n",
      "[LightGBM] [Warning] Unknown parameter: lr                                       \n",
      "[LightGBM] [Warning] Unknown parameter: lr                                       \n",
      "[LightGBM] [Warning] Unknown parameter: lr                                       \n",
      "mean: 0.7731392352483681, Std: 0.006791019342992233                              \n",
      "[LightGBM] [Warning] Unknown parameter: lr                                       \n",
      "[LightGBM] [Warning] Unknown parameter: lr                                       \n",
      "[LightGBM] [Warning] Unknown parameter: lr                                       \n",
      "[LightGBM] [Warning] Unknown parameter: lr                                       \n",
      "[LightGBM] [Warning] Unknown parameter: lr                                       \n",
      "mean: 0.7751034337483663, Std: 0.008430563880020852                              \n",
      "[LightGBM] [Warning] Unknown parameter: lr                                       \n",
      "[LightGBM] [Warning] Unknown parameter: lr                                       \n",
      "[LightGBM] [Warning] Unknown parameter: lr                                       \n",
      "[LightGBM] [Warning] Unknown parameter: lr                                       \n",
      "[LightGBM] [Warning] Unknown parameter: lr                                       \n",
      "mean: 0.7697104256579101, Std: 0.02092716040632088                               \n",
      "[LightGBM] [Warning] Unknown parameter: lr                                        \n",
      "[LightGBM] [Warning] Unknown parameter: lr                                        \n",
      "[LightGBM] [Warning] Unknown parameter: lr                                        \n",
      "[LightGBM] [Warning] Unknown parameter: lr                                        \n",
      "[LightGBM] [Warning] Unknown parameter: lr                                        \n",
      "mean: 0.7679869735436408, Std: 0.0160599944038074                                 \n",
      "[LightGBM] [Warning] Unknown parameter: lr                                        \n",
      "[LightGBM] [Warning] Unknown parameter: lr                                        \n",
      "[LightGBM] [Warning] Unknown parameter: lr                                        \n",
      "[LightGBM] [Warning] Unknown parameter: lr                                        \n",
      "[LightGBM] [Warning] Unknown parameter: lr                                        \n",
      "mean: 0.7639465376172024, Std: 0.0049106326061928475                              \n",
      "[LightGBM] [Warning] Unknown parameter: lr                                        \n",
      "[LightGBM] [Warning] Unknown parameter: lr                                        \n",
      "[LightGBM] [Warning] Unknown parameter: lr                                        \n",
      "[LightGBM] [Warning] Unknown parameter: lr                                        \n",
      "[LightGBM] [Warning] Unknown parameter: lr                                        \n",
      "mean: 0.7622778187137925, Std: 0.010653576454752161                               \n",
      "[LightGBM] [Warning] Unknown parameter: lr                                        \n",
      "[LightGBM] [Warning] Unknown parameter: lr                                        \n",
      "[LightGBM] [Warning] Unknown parameter: lr                                        \n",
      "[LightGBM] [Warning] Unknown parameter: lr                                        \n",
      "[LightGBM] [Warning] Unknown parameter: lr                                        \n",
      "mean: 0.746255735294026, Std: 0.012314846892672005                                \n",
      "[LightGBM] [Warning] Unknown parameter: lr                                        \n",
      "[LightGBM] [Warning] Unknown parameter: lr                                        \n",
      "[LightGBM] [Warning] Unknown parameter: lr                                        \n",
      "[LightGBM] [Warning] Unknown parameter: lr                                        \n",
      "[LightGBM] [Warning] Unknown parameter: lr                                        \n",
      "mean: 0.7676650384285868, Std: 0.012812026431918103                               \n",
      "[LightGBM] [Warning] Unknown parameter: lr                                        \n",
      "[LightGBM] [Warning] Unknown parameter: lr                                        \n",
      "[LightGBM] [Warning] Unknown parameter: lr                                        \n",
      "[LightGBM] [Warning] Unknown parameter: lr                                        \n",
      "[LightGBM] [Warning] Unknown parameter: lr                                        \n",
      "mean: 0.7632498811274447, Std: 0.012025872889921057                               \n",
      "[LightGBM] [Warning] Unknown parameter: lr                                        \n",
      "[LightGBM] [Warning] Unknown parameter: lr                                        \n",
      "[LightGBM] [Warning] Unknown parameter: lr                                        \n",
      "[LightGBM] [Warning] Unknown parameter: lr                                        \n",
      "[LightGBM] [Warning] Unknown parameter: lr                                        \n"
     ]
    },
    {
     "name": "stdout",
     "output_type": "stream",
     "text": [
      "mean: 0.7744203773470119, Std: 0.006761150330318436                               \n",
      "[LightGBM] [Warning] Unknown parameter: lr                                        \n",
      "[LightGBM] [Warning] Unknown parameter: lr                                        \n",
      "[LightGBM] [Warning] Unknown parameter: lr                                        \n",
      "[LightGBM] [Warning] Unknown parameter: lr                                        \n",
      "[LightGBM] [Warning] Unknown parameter: lr                                        \n",
      "mean: 0.76945717863206, Std: 0.009082270032121219                                 \n",
      "[LightGBM] [Warning] Unknown parameter: lr                                        \n",
      "[LightGBM] [Warning] Unknown parameter: lr                                        \n",
      "[LightGBM] [Warning] Unknown parameter: lr                                        \n",
      "[LightGBM] [Warning] Unknown parameter: lr                                        \n",
      "[LightGBM] [Warning] Unknown parameter: lr                                        \n",
      "mean: 0.7676081345472978, Std: 0.010827113294532403                               \n",
      "[LightGBM] [Warning] Unknown parameter: lr                                        \n",
      "[LightGBM] [Warning] Unknown parameter: lr                                        \n",
      "[LightGBM] [Warning] Unknown parameter: lr                                        \n",
      "[LightGBM] [Warning] Unknown parameter: lr                                        \n",
      "[LightGBM] [Warning] Unknown parameter: lr                                        \n",
      "mean: 0.7655665837936578, Std: 0.01576545845014159                                \n",
      "100%|██████████| 20/20 [01:06<00:00,  3.31s/trial, best loss: -0.7764680735662856]\n"
     ]
    }
   ],
   "source": [
    "#split into train and test and call the fmin(optimizer) function for encoded dataset\n",
    "X_train,X_test,y_train,y_test = train_test_split(df_encoded,label,test_size=0.2,random_state=42)\n",
    "trials_encoded = Trials()\n",
    "best_e= fmin(lgb_optimizer,lgb_space, algo=tpe.suggest, max_evals=20, trials=trials_encoded)"
   ]
  },
  {
   "cell_type": "code",
   "execution_count": 41,
   "metadata": {},
   "outputs": [
    {
     "name": "stdout",
     "output_type": "stream",
     "text": [
      "[LightGBM] [Warning] Unknown parameter: lr            \n",
      "[LightGBM] [Warning] Unknown parameter: lr            \n",
      "[LightGBM] [Warning] Unknown parameter: lr            \n",
      "[LightGBM] [Warning] Unknown parameter: lr            \n",
      "[LightGBM] [Warning] Unknown parameter: lr            \n",
      "mean: 0.7668066115402962, Std: 0.019546678518791404   \n",
      "[LightGBM] [Warning] Unknown parameter: lr                                       \n",
      "[LightGBM] [Warning] Unknown parameter: lr                                       \n",
      "[LightGBM] [Warning] Unknown parameter: lr                                       \n",
      "[LightGBM] [Warning] Unknown parameter: lr                                       \n",
      "[LightGBM] [Warning] Unknown parameter: lr                                       \n",
      "mean: 0.7545376685842452, Std: 0.010805061382305074                              \n",
      "[LightGBM] [Warning] Unknown parameter: lr                                       \n",
      "[LightGBM] [Warning] Unknown parameter: lr                                       \n",
      "[LightGBM] [Warning] Unknown parameter: lr                                       \n",
      "[LightGBM] [Warning] Unknown parameter: lr                                       \n",
      "[LightGBM] [Warning] Unknown parameter: lr                                       \n",
      "mean: 0.7754806580249843, Std: 0.0055057106692491245                             \n",
      "[LightGBM] [Warning] Unknown parameter: lr                                       \n",
      "[LightGBM] [Warning] Unknown parameter: lr                                       \n",
      "[LightGBM] [Warning] Unknown parameter: lr                                       \n",
      "[LightGBM] [Warning] Unknown parameter: lr                                       \n",
      "[LightGBM] [Warning] Unknown parameter: lr                                       \n",
      "mean: 0.7586077372676867, Std: 0.007850534956294843                              \n",
      "[LightGBM] [Warning] Unknown parameter: lr                                       \n",
      "[LightGBM] [Warning] Unknown parameter: lr                                       \n",
      "[LightGBM] [Warning] Unknown parameter: lr                                       \n",
      "[LightGBM] [Warning] Unknown parameter: lr                                       \n",
      "[LightGBM] [Warning] Unknown parameter: lr                                       \n",
      "mean: 0.7625705676026907, Std: 0.01627991660220773                               \n",
      "[LightGBM] [Warning] Unknown parameter: lr                                       \n",
      "[LightGBM] [Warning] Unknown parameter: lr                                       \n",
      "[LightGBM] [Warning] Unknown parameter: lr                                       \n",
      "[LightGBM] [Warning] Unknown parameter: lr                                       \n",
      "[LightGBM] [Warning] Unknown parameter: lr                                       \n",
      "mean: 0.7540839359575914, Std: 0.008558063182913004                              \n",
      "[LightGBM] [Warning] Unknown parameter: lr                                       \n",
      "[LightGBM] [Warning] Unknown parameter: lr                                       \n",
      "[LightGBM] [Warning] Unknown parameter: lr                                       \n",
      "[LightGBM] [Warning] Unknown parameter: lr                                       \n",
      "[LightGBM] [Warning] Unknown parameter: lr                                       \n",
      "mean: 0.7634659153250996, Std: 0.018020740149775772                              \n",
      "[LightGBM] [Warning] Unknown parameter: lr                                       \n",
      "[LightGBM] [Warning] Unknown parameter: lr                                       \n",
      "[LightGBM] [Warning] Unknown parameter: lr                                       \n",
      "[LightGBM] [Warning] Unknown parameter: lr                                       \n",
      "[LightGBM] [Warning] Unknown parameter: lr                                       \n",
      "mean: 0.7744515330828334, Std: 0.015428396713912879                              \n",
      "[LightGBM] [Warning] Unknown parameter: lr                                       \n",
      "[LightGBM] [Warning] Unknown parameter: lr                                       \n",
      "[LightGBM] [Warning] Unknown parameter: lr                                       \n",
      "[LightGBM] [Warning] Unknown parameter: lr                                       \n",
      "[LightGBM] [Warning] Unknown parameter: lr                                       \n",
      "mean: 0.7244758310790222, Std: 0.014967948347934423                              \n",
      "[LightGBM] [Warning] Unknown parameter: lr                                       \n",
      "[LightGBM] [Warning] Unknown parameter: lr                                       \n",
      "[LightGBM] [Warning] Unknown parameter: lr                                       \n",
      "[LightGBM] [Warning] Unknown parameter: lr                                       \n",
      "[LightGBM] [Warning] Unknown parameter: lr                                       \n",
      "mean: 0.7746115113439812, Std: 0.013630236447173703                              \n",
      "[LightGBM] [Warning] Unknown parameter: lr                                        \n",
      "[LightGBM] [Warning] Unknown parameter: lr                                        \n",
      "[LightGBM] [Warning] Unknown parameter: lr                                        \n",
      "[LightGBM] [Warning] Unknown parameter: lr                                        \n",
      "[LightGBM] [Warning] Unknown parameter: lr                                        \n",
      "mean: 0.765876223494414, Std: 0.021581233423438644                                \n",
      "[LightGBM] [Warning] Unknown parameter: lr                                        \n",
      "[LightGBM] [Warning] Unknown parameter: lr                                        \n",
      "[LightGBM] [Warning] Unknown parameter: lr                                        \n",
      "[LightGBM] [Warning] Unknown parameter: lr                                        \n",
      "[LightGBM] [Warning] Unknown parameter: lr                                        \n",
      "mean: 0.7689264083281817, Std: 0.011692302770409021                               \n",
      "[LightGBM] [Warning] Unknown parameter: lr                                        \n",
      "[LightGBM] [Warning] Unknown parameter: lr                                        \n",
      "[LightGBM] [Warning] Unknown parameter: lr                                        \n",
      "[LightGBM] [Warning] Unknown parameter: lr                                        \n",
      "[LightGBM] [Warning] Unknown parameter: lr                                        \n",
      "mean: 0.7536202980071659, Std: 0.014841286056339883                               \n",
      "[LightGBM] [Warning] Unknown parameter: lr                                        \n",
      "[LightGBM] [Warning] Unknown parameter: lr                                        \n",
      "[LightGBM] [Warning] Unknown parameter: lr                                        \n",
      "[LightGBM] [Warning] Unknown parameter: lr                                        \n",
      "[LightGBM] [Warning] Unknown parameter: lr                                        \n",
      "mean: 0.774249497368577, Std: 0.016848868622573336                                \n",
      "[LightGBM] [Warning] Unknown parameter: lr                                        \n",
      "[LightGBM] [Warning] Unknown parameter: lr                                        \n",
      "[LightGBM] [Warning] Unknown parameter: lr                                        \n",
      "[LightGBM] [Warning] Unknown parameter: lr                                        \n",
      "[LightGBM] [Warning] Unknown parameter: lr                                        \n",
      "mean: 0.7191800834607468, Std: 0.017472503134127276                               \n",
      "[LightGBM] [Warning] Unknown parameter: lr                                        \n",
      "[LightGBM] [Warning] Unknown parameter: lr                                        \n",
      "[LightGBM] [Warning] Unknown parameter: lr                                        \n",
      "[LightGBM] [Warning] Unknown parameter: lr                                        \n",
      "[LightGBM] [Warning] Unknown parameter: lr                                        \n",
      "mean: 0.7675298148236877, Std: 0.010833152897005833                               \n",
      "[LightGBM] [Warning] Unknown parameter: lr                                        \n",
      "[LightGBM] [Warning] Unknown parameter: lr                                        \n",
      "[LightGBM] [Warning] Unknown parameter: lr                                        \n",
      "[LightGBM] [Warning] Unknown parameter: lr                                        \n",
      "[LightGBM] [Warning] Unknown parameter: lr                                        \n"
     ]
    },
    {
     "name": "stdout",
     "output_type": "stream",
     "text": [
      "mean: 0.7521249187970215, Std: 0.01823338006380702                                \n",
      "[LightGBM] [Warning] Unknown parameter: lr                                        \n",
      "[LightGBM] [Warning] Unknown parameter: lr                                        \n",
      "[LightGBM] [Warning] Unknown parameter: lr                                        \n",
      "[LightGBM] [Warning] Unknown parameter: lr                                        \n",
      "[LightGBM] [Warning] Unknown parameter: lr                                        \n",
      "mean: 0.7549596809762824, Std: 0.02486962727455921                                \n",
      "[LightGBM] [Warning] Unknown parameter: lr                                        \n",
      "[LightGBM] [Warning] Unknown parameter: lr                                        \n",
      "[LightGBM] [Warning] Unknown parameter: lr                                        \n",
      "[LightGBM] [Warning] Unknown parameter: lr                                        \n",
      "[LightGBM] [Warning] Unknown parameter: lr                                        \n",
      "mean: 0.761917599106541, Std: 0.015320370857450073                                \n",
      "[LightGBM] [Warning] Unknown parameter: lr                                        \n",
      "[LightGBM] [Warning] Unknown parameter: lr                                        \n",
      "[LightGBM] [Warning] Unknown parameter: lr                                        \n",
      "[LightGBM] [Warning] Unknown parameter: lr                                        \n",
      "[LightGBM] [Warning] Unknown parameter: lr                                        \n",
      "mean: 0.7519997797224672, Std: 0.017676393378057976                               \n",
      "100%|██████████| 20/20 [01:12<00:00,  3.64s/trial, best loss: -0.7754806580249843]\n"
     ]
    }
   ],
   "source": [
    "#for scaled dataset\n",
    "X_train,X_test,y_train,y_test = train_test_split(df_scaled,label,test_size=0.2,random_state=42)\n",
    "trials_scaled = Trials()\n",
    "best_scaled = fmin(lgb_optimizer, lgb_space, algo=tpe.suggest, max_evals=20, trials=trials_scaled)"
   ]
  },
  {
   "cell_type": "code",
   "execution_count": 42,
   "metadata": {},
   "outputs": [
    {
     "name": "stdout",
     "output_type": "stream",
     "text": [
      "[LightGBM] [Warning] Unknown parameter: lr            \n",
      "[LightGBM] [Warning] Unknown parameter: lr            \n",
      "[LightGBM] [Warning] Unknown parameter: lr            \n",
      "[LightGBM] [Warning] Unknown parameter: lr            \n",
      "[LightGBM] [Warning] Unknown parameter: lr            \n",
      "mean: 0.7639349999640188, Std: 0.005627554345616986   \n",
      "[LightGBM] [Warning] Unknown parameter: lr                                       \n",
      "[LightGBM] [Warning] Unknown parameter: lr                                       \n",
      "[LightGBM] [Warning] Unknown parameter: lr                                       \n",
      "[LightGBM] [Warning] Unknown parameter: lr                                       \n",
      "[LightGBM] [Warning] Unknown parameter: lr                                       \n",
      "mean: 0.7729716317298517, Std: 0.008072914866857807                              \n",
      "[LightGBM] [Warning] Unknown parameter: lr                                       \n",
      "[LightGBM] [Warning] Unknown parameter: lr                                       \n",
      "[LightGBM] [Warning] Unknown parameter: lr                                       \n",
      "[LightGBM] [Warning] Unknown parameter: lr                                       \n",
      "[LightGBM] [Warning] Unknown parameter: lr                                       \n",
      "mean: 0.7605404496585552, Std: 0.01563455449626753                               \n",
      "[LightGBM] [Warning] Unknown parameter: lr                                       \n",
      "[LightGBM] [Warning] Unknown parameter: lr                                       \n",
      "[LightGBM] [Warning] Unknown parameter: lr                                       \n",
      "[LightGBM] [Warning] Unknown parameter: lr                                       \n",
      "[LightGBM] [Warning] Unknown parameter: lr                                       \n",
      "mean: 0.7609930787718672, Std: 0.022931818868326993                              \n",
      "[LightGBM] [Warning] Unknown parameter: lr                                       \n",
      "[LightGBM] [Warning] Unknown parameter: lr                                       \n",
      "[LightGBM] [Warning] Unknown parameter: lr                                       \n",
      "[LightGBM] [Warning] Unknown parameter: lr                                       \n",
      "[LightGBM] [Warning] Unknown parameter: lr                                       \n",
      "mean: 0.758594573580918, Std: 0.007983007084410795                               \n",
      "[LightGBM] [Warning] Unknown parameter: lr                                       \n",
      "[LightGBM] [Warning] Unknown parameter: lr                                       \n",
      "[LightGBM] [Warning] Unknown parameter: lr                                       \n",
      "[LightGBM] [Warning] Unknown parameter: lr                                       \n",
      "[LightGBM] [Warning] Unknown parameter: lr                                       \n",
      "mean: 0.7711003426284371, Std: 0.006093789001038063                              \n",
      "[LightGBM] [Warning] Unknown parameter: lr                                       \n",
      "[LightGBM] [Warning] Unknown parameter: lr                                       \n",
      "[LightGBM] [Warning] Unknown parameter: lr                                       \n",
      "[LightGBM] [Warning] Unknown parameter: lr                                       \n",
      "[LightGBM] [Warning] Unknown parameter: lr                                       \n",
      "mean: 0.7726937547772665, Std: 0.006652131379145769                              \n",
      "[LightGBM] [Warning] Unknown parameter: lr                                       \n",
      "[LightGBM] [Warning] Unknown parameter: lr                                       \n",
      "[LightGBM] [Warning] Unknown parameter: lr                                       \n",
      "[LightGBM] [Warning] Unknown parameter: lr                                       \n",
      "[LightGBM] [Warning] Unknown parameter: lr                                       \n",
      "mean: 0.7662010468036042, Std: 0.012486632850525842                              \n",
      "[LightGBM] [Warning] Unknown parameter: lr                                       \n",
      "[LightGBM] [Warning] Unknown parameter: lr                                       \n",
      "[LightGBM] [Warning] Unknown parameter: lr                                       \n",
      "[LightGBM] [Warning] Unknown parameter: lr                                       \n",
      "[LightGBM] [Warning] Unknown parameter: lr                                       \n",
      "mean: 0.7576969037896699, Std: 0.00225783438945386                               \n",
      "[LightGBM] [Warning] Unknown parameter: lr                                       \n",
      "[LightGBM] [Warning] Unknown parameter: lr                                       \n",
      "[LightGBM] [Warning] Unknown parameter: lr                                       \n",
      "[LightGBM] [Warning] Unknown parameter: lr                                       \n",
      "[LightGBM] [Warning] Unknown parameter: lr                                       \n",
      "mean: 0.7422463881971062, Std: 0.008764921727424423                              \n",
      "[LightGBM] [Warning] Unknown parameter: lr                                        \n",
      "[LightGBM] [Warning] Unknown parameter: lr                                        \n",
      "[LightGBM] [Warning] Unknown parameter: lr                                        \n",
      "[LightGBM] [Warning] Unknown parameter: lr                                        \n",
      "[LightGBM] [Warning] Unknown parameter: lr                                        \n",
      "mean: 0.7606656732491001, Std: 0.015054707949877715                               \n",
      "[LightGBM] [Warning] Unknown parameter: lr                                        \n",
      "[LightGBM] [Warning] Unknown parameter: lr                                        \n",
      "[LightGBM] [Warning] Unknown parameter: lr                                        \n",
      "[LightGBM] [Warning] Unknown parameter: lr                                        \n",
      "[LightGBM] [Warning] Unknown parameter: lr                                        \n",
      "mean: 0.7626117635663899, Std: 0.009804460551472056                               \n",
      "[LightGBM] [Warning] Unknown parameter: lr                                        \n",
      "[LightGBM] [Warning] Unknown parameter: lr                                        \n",
      "[LightGBM] [Warning] Unknown parameter: lr                                        \n",
      "[LightGBM] [Warning] Unknown parameter: lr                                        \n",
      "[LightGBM] [Warning] Unknown parameter: lr                                        \n",
      "mean: 0.753115135298467, Std: 0.011883264409095875                                \n",
      "[LightGBM] [Warning] Unknown parameter: lr                                        \n",
      "[LightGBM] [Warning] Unknown parameter: lr                                        \n",
      "[LightGBM] [Warning] Unknown parameter: lr                                        \n",
      "[LightGBM] [Warning] Unknown parameter: lr                                        \n",
      "[LightGBM] [Warning] Unknown parameter: lr                                        \n",
      "mean: 0.7472247825078812, Std: 0.011686880764521254                               \n",
      "[LightGBM] [Warning] Unknown parameter: lr                                        \n",
      "[LightGBM] [Warning] Unknown parameter: lr                                        \n",
      "[LightGBM] [Warning] Unknown parameter: lr                                        \n",
      "[LightGBM] [Warning] Unknown parameter: lr                                        \n",
      "[LightGBM] [Warning] Unknown parameter: lr                                        \n",
      "mean: 0.7685304173291228, Std: 0.012074891445770782                               \n",
      "[LightGBM] [Warning] Unknown parameter: lr                                        \n",
      "[LightGBM] [Warning] Unknown parameter: lr                                        \n",
      "[LightGBM] [Warning] Unknown parameter: lr                                        \n",
      "[LightGBM] [Warning] Unknown parameter: lr                                        \n",
      "[LightGBM] [Warning] Unknown parameter: lr                                        \n",
      "mean: 0.7739677873557232, Std: 0.0031892818659677753                              \n",
      "[LightGBM] [Warning] Unknown parameter: lr                                        \n",
      "[LightGBM] [Warning] Unknown parameter: lr                                        \n",
      "[LightGBM] [Warning] Unknown parameter: lr                                        \n",
      "[LightGBM] [Warning] Unknown parameter: lr                                        \n",
      "[LightGBM] [Warning] Unknown parameter: lr                                        \n"
     ]
    },
    {
     "name": "stdout",
     "output_type": "stream",
     "text": [
      "mean: 0.7484345080857782, Std: 0.018874990851088205                               \n",
      "[LightGBM] [Warning] Unknown parameter: lr                                        \n",
      "[LightGBM] [Warning] Unknown parameter: lr                                        \n",
      "[LightGBM] [Warning] Unknown parameter: lr                                        \n",
      "[LightGBM] [Warning] Unknown parameter: lr                                        \n",
      "[LightGBM] [Warning] Unknown parameter: lr                                        \n",
      "mean: 0.7745083542370449, Std: 0.015271333048149644                               \n",
      "[LightGBM] [Warning] Unknown parameter: lr                                        \n",
      "[LightGBM] [Warning] Unknown parameter: lr                                        \n",
      "[LightGBM] [Warning] Unknown parameter: lr                                        \n",
      "[LightGBM] [Warning] Unknown parameter: lr                                        \n",
      "[LightGBM] [Warning] Unknown parameter: lr                                        \n",
      "mean: 0.7716207938346289, Std: 0.017547362715276904                               \n",
      "[LightGBM] [Warning] Unknown parameter: lr                                        \n",
      "[LightGBM] [Warning] Unknown parameter: lr                                        \n",
      "[LightGBM] [Warning] Unknown parameter: lr                                        \n",
      "[LightGBM] [Warning] Unknown parameter: lr                                        \n",
      "[LightGBM] [Warning] Unknown parameter: lr                                        \n",
      "mean: 0.7493637767975441, Std: 0.013560894091431071                               \n",
      "100%|██████████| 20/20 [01:13<00:00,  3.66s/trial, best loss: -0.7745083542370449]\n"
     ]
    }
   ],
   "source": [
    "#for transformed dataset\n",
    "X_train,X_test,y_train,y_test = train_test_split(df_transformed,label,test_size=0.2,random_state=42)\n",
    "trials_transformed = Trials()\n",
    "best_transformed = fmin(lgb_optimizer, lgb_space, algo=tpe.suggest, max_evals=20, trials=trials_transformed)"
   ]
  },
  {
   "cell_type": "code",
   "execution_count": 43,
   "metadata": {},
   "outputs": [],
   "source": [
    "def model_trainer(Data,label,params,classifier='lgb',test_size=0.2):\n",
    "    '''A function to train a model. \n",
    "    parameters:\n",
    "    Data :=pandas dataset or numpy array of features\n",
    "    label:=pandas dataset or numpy array of labels for features \n",
    "    params:=python dict parametes for the model\n",
    "    model:=keras model object or sklearn classifier object\n",
    "    test_size:=Float (0,1) fraction for test split\n",
    "    return\n",
    "    model:=str 'keras','lgb'\n",
    "    train_score:=float balanced accuracy train score\n",
    "    test_score:=float balanced accuracy test score\n",
    "    returns-trained model,train_score,test_score\n",
    "    '''\n",
    "    X_train,X_test,y_train,y_test = train_test_split(Data,label,test_size=test_size,random_state=42)\n",
    "    if classifier=='lgb':\n",
    "        if 'num_leaves' in params:\n",
    "            params['num_leaves']=int(params['num_leaves'])\n",
    "        if 'max_depth' in params:\n",
    "            #max_depth=[-1,9,12]#max_depth choice list\n",
    "            params['max_depth']=-1#int(params['max_depth'])#best returns an index corresponding the choice\n",
    "        clf = lgb.LGBMClassifier(n_estimators=5000,**params)\n",
    "        clf.fit(X_train,y_train,eval_set=(X_test,y_test),early_stopping_rounds =200,eval_metric='auc',verbose=False)\n",
    "        train_pred=clf.predict(X_train)\n",
    "        test_pred=clf.predict(X_test)\n",
    "    elif classifier=='keras':\n",
    "        opt=['adam','sgd']\n",
    "        if 'optimizer' in params:\n",
    "            params['optimizer'] =opt[params['optimizer']]\n",
    "        clf = model(feature_size=X_train.shape[-1],**params)\n",
    "        clf.fit(X_train,y_train,epochs=20,batch_size=128,verbose=0)\n",
    "        train_pred=np.round(clf.predict(X_train))\n",
    "        test_pred=np.round(clf.predict(X_test))\n",
    "    train_score = balanced_accuracy_score(train_pred,y_train)\n",
    "    test_score= balanced_accuracy_score(test_pred,y_test)\n",
    "    return clf,train_score,test_score\n",
    "        \n",
    "    "
   ]
  },
  {
   "cell_type": "code",
   "execution_count": 44,
   "metadata": {},
   "outputs": [
    {
     "name": "stdout",
     "output_type": "stream",
     "text": [
      "{'colsample_bytree': 0.7033881480691744, 'lr': 0.004000614603230111, 'max_depth': 2, 'num_leaves': 24.0}\n",
      "{'colsample_bytree': 0.6918580761158839, 'lr': 0.004405814996467774, 'max_depth': 0, 'num_leaves': 27.0}\n",
      "{'colsample_bytree': 0.797335768283457, 'lr': 0.0010849891457832665, 'max_depth': 2, 'num_leaves': 19.0}\n"
     ]
    }
   ],
   "source": [
    "print(best_e)\n",
    "print(best_scaled)\n",
    "print(best_transformed)"
   ]
  },
  {
   "cell_type": "code",
   "execution_count": 45,
   "metadata": {},
   "outputs": [
    {
     "name": "stdout",
     "output_type": "stream",
     "text": [
      "[LightGBM] [Warning] Unknown parameter: lr\n",
      "[LightGBM] [Warning] Unknown parameter: lr\n",
      "[LightGBM] [Warning] Unknown parameter: lr\n"
     ]
    }
   ],
   "source": [
    "clf_encoded,lgb_train_encoded,lgb_test_encoded=model_trainer(df_encoded,label,best_e)\n",
    "clf_scaled,lgb_train_scaled,lgb_test_scaled=model_trainer(df_scaled,label,best_scaled)\n",
    "clf_transformed,lgb_train_transformed,lgb_test_transformed=model_trainer(df_transformed,label,best_transformed)"
   ]
  },
  {
   "cell_type": "code",
   "execution_count": 46,
   "metadata": {},
   "outputs": [
    {
     "name": "stdout",
     "output_type": "stream",
     "text": [
      "results\n",
      "| Dataset Type | Train Score | Test Score |\n",
      "| Encoded      | 0.890587       | 0.826378     |\n",
      "| Scaled       | 0.896331       | 0.823374     |\n",
      "| Transformed  | 0.896331       | 0.823374     |\n"
     ]
    }
   ],
   "source": [
    "print(\"results\")\n",
    "print(\"| Dataset Type | Train Score | Test Score |\")\n",
    "print(\"| Encoded      | {:2f}       | {:2f}     |\".format(lgb_train_encoded,lgb_test_encoded))\n",
    "print(\"| Scaled       | {:2f}       | {:2f}     |\".format(lgb_train_scaled,lgb_test_scaled))\n",
    "print(\"| Transformed  | {:2f}       | {:2f}     |\".format(lgb_train_scaled,lgb_test_scaled))"
   ]
  },
  {
   "cell_type": "markdown",
   "metadata": {},
   "source": [
    "### optimization and selection for neural network"
   ]
  },
  {
   "cell_type": "code",
   "execution_count": 50,
   "metadata": {},
   "outputs": [],
   "source": [
    "from keras.models import Sequential\n",
    "from keras.layers import Dense, Dropout\n",
    "from keras.optimizers import Adam, SGD\n",
    "from keras.callbacks import EarlyStopping"
   ]
  },
  {
   "cell_type": "code",
   "execution_count": 51,
   "metadata": {},
   "outputs": [],
   "source": [
    "skf = StratifiedKFold(n_splits=5, random_state=None, shuffle=True)"
   ]
  },
  {
   "cell_type": "code",
   "execution_count": 52,
   "metadata": {},
   "outputs": [],
   "source": [
    "def model(feature_size,lr=0.1,optimizer='adam',hl_size=128):\n",
    "    ''' function to define keras model\n",
    "    :feature:=\n",
    "    '''\n",
    "    if optimizer=='adam':\n",
    "        opt =Adam(lr=lr)\n",
    "    elif optimizer=='sgd':\n",
    "        opt = SGD(lr=lr)\n",
    "    hl_size=int(hl_size)\n",
    "    model =Sequential()\n",
    "    model.add(Dense(hl_size,activation='relu',input_shape=(feature_size,)))\n",
    "    model.add(Dropout(0.25))\n",
    "    model.add(Dense(hl_size,activation='relu'))\n",
    "    model.add(Dense(1,activation='sigmoid'))\n",
    "    model.compile(optimizer=opt,loss='binary_crossentropy',metrics=['acc'])\n",
    "    return model\n",
    "    "
   ]
  },
  {
   "cell_type": "code",
   "execution_count": 53,
   "metadata": {},
   "outputs": [],
   "source": [
    "def keras_optimizer(params):\n",
    "    val_score=[]\n",
    "    true_scores=[]\n",
    "    rd=1\n",
    "    for train_index, test_index in skf.split(X_train, y_train):\n",
    "        X_tr, X_val = X_train.iloc[train_index], X_train.iloc[test_index]\n",
    "        y_tr, y_val = y_train.iloc[train_index], y_train.iloc[test_index]\n",
    "        nn_model = model(X_train.shape[1],**params)\n",
    "        cb = EarlyStopping(monitor='val_acc',min_delta=0.001,patience=3)\n",
    "        nn_model.fit(X_tr,y_tr,validation_data=(X_val,y_val),batch_size=128,callbacks=[cb],epochs=50,verbose=0)\n",
    "        #_,score= nn_model.evaluate(X_val,y_val)\n",
    "        #_,true_score=nn_model.evaluate(X_tr,y_tr)\n",
    "        cv_pred = np.round(nn_model.predict(X_val))\n",
    "        score=balanced_accuracy_score(y_val,cv_pred)\n",
    "        y_tr_pred = np.round(nn_model.predict(X_tr))\n",
    "        true_score=balanced_accuracy_score(y_tr,y_tr_pred)\n",
    "        \n",
    "        val_score.append(score)\n",
    "        true_scores.append(true_score)\n",
    "        rd+=1\n",
    "    mean,std =np.mean(val_score),np.std(val_score)\n",
    "    true_mean=np.mean(true_scores)\n",
    "    print(\"mean: {}, Std: {}\".format(mean,std))\n",
    "    return {'loss':-mean,'status': STATUS_OK,'true_loss':-true_mean}"
   ]
  },
  {
   "cell_type": "code",
   "execution_count": 54,
   "metadata": {},
   "outputs": [],
   "source": [
    "keras_space = {'lr':hp.loguniform('lr',-10,-2.3),'optimizer':hp.choice('optimizer',['adam','sgd'])}"
   ]
  },
  {
   "cell_type": "code",
   "execution_count": 64,
   "metadata": {},
   "outputs": [
    {
     "name": "stdout",
     "output_type": "stream",
     "text": [
      "mean: 0.6238281174492538, Std: 0.028358617186617124   \n",
      "mean: 0.6140643929209305, Std: 0.06735836654842824                               \n",
      "mean: 0.5414282784528608, Std: 0.04166983124975877                               \n",
      "mean: 0.6608013203940895, Std: 0.059527634903741466                              \n",
      "mean: 0.5021976880321901, Std: 0.0036177008265222735                             \n",
      "mean: 0.6224693625342601, Std: 0.055599443407740284                              \n",
      "mean: 0.7168353334014076, Std: 0.0826538098521615                                \n",
      "mean: 0.5962687024129277, Std: 0.034964665011172166                              \n",
      "mean: 0.5173394165381057, Std: 0.01582021688979241                               \n",
      "mean: 0.6688130752270489, Std: 0.06231671106296116                               \n",
      "100%|██████████| 10/10 [01:31<00:00,  9.12s/trial, best loss: -0.7168353334014076]\n"
     ]
    }
   ],
   "source": [
    "X_train,X_test,y_train,y_test = train_test_split(df_encoded,label,test_size=0.2,random_state=42)\n",
    "best_nn_encoded=fmin(keras_optimizer,keras_space,algo=tpe.suggest,max_evals=10)"
   ]
  },
  {
   "cell_type": "code",
   "execution_count": 65,
   "metadata": {},
   "outputs": [
    {
     "name": "stdout",
     "output_type": "stream",
     "text": [
      "mean: 0.5852238499300768, Std: 0.10466546574506218    \n",
      "mean: 0.5921190766870932, Std: 0.07679116035236659                               \n",
      "mean: 0.49997602522146706, Std: 0.0007183148439303354                            \n",
      "mean: 0.4997011713910081, Std: 0.0002673123798319824                             \n",
      "mean: 0.4850916958873909, Std: 0.01281973388572681                               \n",
      "mean: 0.4984219664869521, Std: 0.001219559482567182                              \n",
      "mean: 0.5009467987817879, Std: 0.004172900366380666                              \n",
      "mean: 0.6499122112849894, Std: 0.02730063409450173                               \n",
      "mean: 0.5083791591950588, Std: 0.016758318390117568                              \n",
      "mean: 0.5327387296728814, Std: 0.03069967442582533                               \n",
      "100%|██████████| 10/10 [01:40<00:00, 10.06s/trial, best loss: -0.6499122112849894]\n"
     ]
    }
   ],
   "source": [
    "X_train,X_test,y_train,y_test = train_test_split(df_scaled,label,test_size=0.2,random_state=42)\n",
    "best_nn_scaled=fmin(keras_optimizer,keras_space,algo=tpe.suggest,max_evals=10)"
   ]
  },
  {
   "cell_type": "code",
   "execution_count": 66,
   "metadata": {},
   "outputs": [
    {
     "name": "stdout",
     "output_type": "stream",
     "text": [
      "mean: 0.72001146433641, Std: 0.018383385079494715     \n",
      "mean: 0.5052389140348204, Std: 0.009296666359069046                            \n",
      "mean: 0.5280007900308122, Std: 0.05298861435603702                             \n",
      "mean: 0.5, Std: 0.0                                                            \n",
      "mean: 0.5003702105385135, Std: 0.0007404210770269871                           \n",
      "mean: 0.732349810629224, Std: 0.027836199464940887                             \n",
      "mean: 0.5, Std: 0.0                                                             \n",
      "mean: 0.5302400710077625, Std: 0.060480142015524936                             \n",
      "mean: 0.6374367904068328, Std: 0.12053061372877064                              \n",
      "mean: 0.8004808432288348, Std: 0.049333313409735416                             \n",
      "100%|██████████| 10/10 [01:20<00:00,  8.03s/trial, best loss: -0.8004808432288348]\n"
     ]
    }
   ],
   "source": [
    "X_train,X_test,y_train,y_test = train_test_split(df_transformed,label,test_size=0.2,random_state=42)\n",
    "best_nn_transformed=fmin(keras_optimizer,keras_space,algo=tpe.suggest,max_evals=10)"
   ]
  },
  {
   "cell_type": "code",
   "execution_count": 67,
   "metadata": {},
   "outputs": [
    {
     "name": "stdout",
     "output_type": "stream",
     "text": [
      "{'lr': 0.0002118051868990055, 'optimizer': 0}\n",
      "{'lr': 0.0074000797844073025, 'optimizer': 0}\n",
      "{'lr': 0.0007511826635572429, 'optimizer': 0}\n"
     ]
    }
   ],
   "source": [
    "print(best_nn_encoded)\n",
    "print(best_nn_scaled)\n",
    "print(best_nn_transformed)"
   ]
  },
  {
   "cell_type": "code",
   "execution_count": 68,
   "metadata": {},
   "outputs": [],
   "source": [
    "_,nn_train_encoded,nn_test_encoded=model_trainer(df_encoded,label,best_nn_encoded,'keras')\n",
    "_,nn_train_scaled,nn_test_scaled=model_trainer(df_scaled,label,best_nn_scaled,'keras')\n",
    "_,nn_train_transformed,nn_test_transformed=model_trainer(df_transformed,label,best_nn_transformed,'keras')"
   ]
  },
  {
   "cell_type": "code",
   "execution_count": 69,
   "metadata": {},
   "outputs": [
    {
     "name": "stdout",
     "output_type": "stream",
     "text": [
      "|              |        neural network            |       Boosted Trees       |\n",
      "| Dataset Type | Train Score     | Test Score     |Train Score   | Test Score |\n",
      "| Encoded      | 0.8375          | 0.8319         | 0.8906       | 0.8264     |\n",
      "| Scaled       | 0.8535          | 0.8134         | 0.8963       | 0.8234     |\n",
      "| Transformed  | 0.8535          | 0.8134         | 0.8963       | 0.8234     |\n"
     ]
    }
   ],
   "source": [
    "print(\"|              |        neural network            |       Boosted Trees       |\")\n",
    "print(\"| Dataset Type | Train Score     | Test Score     |Train Score   | Test Score |\")\n",
    "print(\"| Encoded      | {:.4f}          | {:.4f}         | {:.4f}       | {:.4f}     |\".format(nn_train_encoded,nn_test_encoded,lgb_train_encoded,lgb_test_encoded))\n",
    "print(\"| Scaled       | {:.4f}          | {:.4f}         | {:.4f}       | {:.4f}     |\".format(nn_train_scaled,nn_test_scaled,lgb_train_scaled,lgb_test_scaled))\n",
    "print(\"| Transformed  | {:.4f}          | {:.4f}         | {:.4f}       | {:.4f}     |\".format(nn_train_scaled,nn_test_scaled,lgb_train_scaled,lgb_test_scaled))"
   ]
  },
  {
   "cell_type": "markdown",
   "metadata": {},
   "source": [
    "The best result for both tree based model and neural network model are obtained on the feature set that is not scaled or transfromed. Both models perform equally well with the neural netwrok performing 1 percent better than the gradient boosted trees."
   ]
  },
  {
   "cell_type": "code",
   "execution_count": 70,
   "metadata": {},
   "outputs": [
    {
     "data": {
      "text/plain": [
       "['lgb_best.pkl']"
      ]
     },
     "execution_count": 70,
     "metadata": {},
     "output_type": "execute_result"
    }
   ],
   "source": [
    "#Save the model\n",
    "from sklearn.externals import joblib\n",
    "joblib.dump(clf_encoded, 'lgb_best.pkl')"
   ]
  },
  {
   "cell_type": "code",
   "execution_count": 71,
   "metadata": {},
   "outputs": [
    {
     "data": {
      "text/plain": [
       "<AxesSubplot:title={'center':'Feature importance'}, xlabel='Feature importance', ylabel='Features'>"
      ]
     },
     "execution_count": 71,
     "metadata": {},
     "output_type": "execute_result"
    },
    {
     "data": {
      "image/png": "[encoded data removed]",
      "text/plain": [
       "<Figure size 432x288 with 1 Axes>"
      ]
     },
     "metadata": {
      "needs_background": "light"
     },
     "output_type": "display_data"
    }
   ],
   "source": [
    "#feature importance for the best tree based model\n",
    "%matplotlib inline\n",
    "lgb.plot_importance(clf_encoded,max_num_features=10)"
   ]
  },
  {
   "cell_type": "markdown",
   "metadata": {},
   "source": [
    "## Conclusion\n",
    "\n",
    "The top 10 features affecting the buying intentions were identified. These features can be further isolated depending upon the applications. For eg. Exit would be a good measure of how well personalized webpages are working for users. A simple A/B test can be carried out with and without personalization and exit rates as well as other features can be monitored. Change in these features would indicate a change in buying intent and tell us if the test was succesfull. "
   ]
  },
  {
   "cell_type": "code",
   "execution_count": null,
   "metadata": {},
   "outputs": [],
   "source": []
  }
 ],
 "metadata": {
  "kernelspec": {
   "display_name": "Python 3",
   "language": "python",
   "name": "python3"
  },
  "language_info": {
   "codemirror_mode": {
    "name": "ipython",
    "version": 3
   },
   "file_extension": ".py",
   "mimetype": "text/x-python",
   "name": "python",
   "nbconvert_exporter": "python",
   "pygments_lexer": "ipython3",
   "version": "3.8.5"
  },
  "latex_envs": {
   "LaTeX_envs_menu_present": true,
   "autoclose": false,
   "autocomplete": true,
   "bibliofile": "biblio.bib",
   "cite_by": "apalike",
   "current_citInitial": 1,
   "eqLabelWithNumbers": true,
   "eqNumInitial": 1,
   "hotkeys": {
    "equation": "Ctrl-E",
    "itemize": "Ctrl-I"
   },
   "labels_anchors": false,
   "latex_user_defs": false,
   "report_style_numbering": false,
   "user_envs_cfg": false
  }
 },
 "nbformat": 4,
 "nbformat_minor": 2
}
